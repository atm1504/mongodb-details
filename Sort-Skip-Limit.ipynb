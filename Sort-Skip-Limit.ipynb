{
  "nbformat": 4,
  "nbformat_minor": 0,
  "metadata": {
    "kernelspec": {
      "display_name": "Python 3",
      "language": "python",
      "name": "python3"
    },
    "language_info": {
      "codemirror_mode": {
        "name": "ipython",
        "version": 3
      },
      "file_extension": ".py",
      "mimetype": "text/x-python",
      "name": "python",
      "nbconvert_exporter": "python",
      "pygments_lexer": "ipython3",
      "version": "3.6.1"
    },
    "colab": {
      "name": "Sort, Skip, Limit.ipynb",
      "provenance": [],
      "collapsed_sections": [],
      "include_colab_link": true
    }
  },
  "cells": [
    {
      "cell_type": "markdown",
      "metadata": {
        "id": "view-in-github",
        "colab_type": "text"
      },
      "source": [
        "<a href=\"https://colab.research.google.com/github/atm1504/mongodb-details/blob/master/Sort-Skip-Limit.ipynb\" target=\"_parent\"><img src=\"https://colab.research.google.com/assets/colab-badge.svg\" alt=\"Open In Colab\"/></a>"
      ]
    },
    {
      "cell_type": "markdown",
      "metadata": {
        "id": "OMj3ExPobld8",
        "colab_type": "text"
      },
      "source": [
        "## Sort, Skip, and Limit\n",
        "To study the concept of pagination."
      ]
    },
    {
      "cell_type": "code",
      "metadata": {
        "id": "Tic4I9IBXNiX",
        "colab_type": "code",
        "colab": {}
      },
      "source": [
        "!pip3 install pymongo[srv]"
      ],
      "execution_count": null,
      "outputs": []
    },
    {
      "cell_type": "code",
      "metadata": {
        "id": "3eLamj4uMTKF",
        "colab_type": "code",
        "colab": {}
      },
      "source": [
        "from pymongo import MongoClient, DESCENDING\n",
        "import pprint"
      ],
      "execution_count": 1,
      "outputs": []
    },
    {
      "cell_type": "code",
      "metadata": {
        "id": "rgdjR3yAMTKK",
        "colab_type": "code",
        "colab": {}
      },
      "source": [
        "# Replace XXXX with your connection URI from the Atlas UI\n",
        "course_cluster_uri = xxxx"
      ],
      "execution_count": 2,
      "outputs": []
    },
    {
      "cell_type": "code",
      "metadata": {
        "id": "pAKVGlH7MTKN",
        "colab_type": "code",
        "colab": {}
      },
      "source": [
        "course_client = MongoClient(course_cluster_uri)\n",
        "db = course_client['mongo']"
      ],
      "execution_count": 3,
      "outputs": []
    },
    {
      "cell_type": "code",
      "metadata": {
        "id": "eI9x1TmCMTKQ",
        "colab_type": "code",
        "colab": {}
      },
      "source": [
        "filters = {}\n",
        "page = 0\n",
        "movies_per_page = 20"
      ],
      "execution_count": 4,
      "outputs": []
    },
    {
      "cell_type": "code",
      "metadata": {
        "id": "bDKJIi7FMTKS",
        "colab_type": "code",
        "colab": {}
      },
      "source": [
        "sort_key = \"tomatoes.viewer.numReviews\"\n",
        "\n",
        "movies = db.milf.find(filters) \\\n",
        "                  .sort(sort_key, DESCENDING)"
      ],
      "execution_count": 16,
      "outputs": []
    },
    {
      "cell_type": "code",
      "metadata": {
        "id": "ZW-6Rl5MMTKV",
        "colab_type": "code",
        "colab": {
          "base_uri": "https://localhost:8080/",
          "height": 68
        },
        "outputId": "14cafaad-72fd-4a91-92ca-46db96beb2d9"
      },
      "source": [
        "# count number of total movie documents\n",
        "total_num_movies = movies.count()\n",
        "pprint.pprint(total_num_movies)"
      ],
      "execution_count": 17,
      "outputs": [
        {
          "output_type": "stream",
          "text": [
            "/usr/local/lib/python3.6/dist-packages/ipykernel_launcher.py:2: DeprecationWarning: count is deprecated. Use Collection.count_documents instead.\n",
            "  \n"
          ],
          "name": "stderr"
        },
        {
          "output_type": "stream",
          "text": [
            "46014\n"
          ],
          "name": "stdout"
        }
      ]
    },
    {
      "cell_type": "code",
      "metadata": {
        "id": "G3Lkl3JbMTKX",
        "colab_type": "code",
        "colab": {
          "base_uri": "https://localhost:8080/",
          "height": 34
        },
        "outputId": "ea9401d8-39da-4ccb-d719-7c47bdf000e7"
      },
      "source": [
        "# limit records based on page number\n",
        "movies.skip(movies_per_page * page) \\\n",
        "               .limit(movies_per_page)"
      ],
      "execution_count": 18,
      "outputs": [
        {
          "output_type": "execute_result",
          "data": {
            "text/plain": [
              "<pymongo.cursor.Cursor at 0x7f64e8b1f7f0>"
            ]
          },
          "metadata": {
            "tags": []
          },
          "execution_count": 18
        }
      ]
    },
    {
      "cell_type": "code",
      "metadata": {
        "id": "2JBzSA9oMTKa",
        "colab_type": "code",
        "colab": {}
      },
      "source": [
        "movie_list = list(movies)"
      ],
      "execution_count": 19,
      "outputs": []
    },
    {
      "cell_type": "code",
      "metadata": {
        "id": "EQmqwrM7MTKd",
        "colab_type": "code",
        "colab": {
          "base_uri": "https://localhost:8080/",
          "height": 34
        },
        "outputId": "5e3dc6ac-9de9-450e-9d6d-2a884e55743e"
      },
      "source": [
        "len(movie_list)"
      ],
      "execution_count": 20,
      "outputs": [
        {
          "output_type": "execute_result",
          "data": {
            "text/plain": [
              "20"
            ]
          },
          "metadata": {
            "tags": []
          },
          "execution_count": 20
        }
      ]
    },
    {
      "cell_type": "code",
      "metadata": {
        "id": "rQ6dTWsuMTKg",
        "colab_type": "code",
        "colab": {
          "base_uri": "https://localhost:8080/",
          "height": 411
        },
        "outputId": "528f55ec-f54c-4679-ec38-d2d9fd0ab1f3"
      },
      "source": [
        "movie_list[0]"
      ],
      "execution_count": 21,
      "outputs": [
        {
          "output_type": "execute_result",
          "data": {
            "text/plain": [
              "{'_id': ObjectId('5ef8953205d42488e36c6b90'),\n",
              " 'awards': '',\n",
              " 'cast': 'Vivian Vaughan, Arthur White, James H. White',\n",
              " 'country': 'USA',\n",
              " 'director': 'George S. Fleming, Edwin S. Porter',\n",
              " 'fullplot': \"Porter's sequential continuity editing links several shots to form a narrative of firemen responding to a house fire. They leave the station with their horse drawn pumper, arrive on the scene, and effect the safe rescue of a woman from the burning house. But wait, she tells them of her child yet asleep in the burning bedroom . . .\",\n",
              " 'genre': 'Short, Action',\n",
              " 'imdbID': '447',\n",
              " 'imdbRating': '6.4',\n",
              " 'imdbVotes': '1158',\n",
              " 'language': 'English',\n",
              " 'lastupdated': '2015-08-29 00:26:36.093000000',\n",
              " 'metacritic': '',\n",
              " 'plot': \"Porter's sequential continuity editing links several shots to form a narrative of firemen responding to a house fire. They leave the station with their horse drawn pumper, arrive on the ...\",\n",
              " 'poster': 'https://m.media-amazon.com/images/M/MV5BMjAzNTI3MzI0Nl5BMl5BanBnXkFtZTcwMzQ1MTYzMw@@._V1_SX300.jpg',\n",
              " 'rating': 'NOT RATED',\n",
              " 'released': '1903-01-01',\n",
              " 'runtime': '6 min',\n",
              " 'title': 'Life of an American Fireman',\n",
              " 'type': 'movie',\n",
              " 'writer': '',\n",
              " 'year': '1903'}"
            ]
          },
          "metadata": {
            "tags": []
          },
          "execution_count": 21
        }
      ]
    },
    {
      "cell_type": "code",
      "metadata": {
        "id": "3r1rYjFbMTKi",
        "colab_type": "code",
        "colab": {}
      },
      "source": [
        "page = 1"
      ],
      "execution_count": 22,
      "outputs": []
    },
    {
      "cell_type": "code",
      "metadata": {
        "id": "RAQPX40iMTKl",
        "colab_type": "code",
        "colab": {}
      },
      "source": [
        "movies = db.milf.find(filters) \\\n",
        "                  .sort(sort_key, DESCENDING) \\\n",
        "                  .skip(movies_per_page * page).limit(200)"
      ],
      "execution_count": 33,
      "outputs": []
    },
    {
      "cell_type": "code",
      "metadata": {
        "id": "UQT0PpdnMTKo",
        "colab_type": "code",
        "colab": {
          "base_uri": "https://localhost:8080/",
          "height": 34
        },
        "outputId": "903dd2c8-cdd7-4a0b-a871-93880b482337"
      },
      "source": [
        "movie_list = list(movies)\n",
        "len(movie_list)"
      ],
      "execution_count": 34,
      "outputs": [
        {
          "output_type": "execute_result",
          "data": {
            "text/plain": [
              "200"
            ]
          },
          "metadata": {
            "tags": []
          },
          "execution_count": 34
        }
      ]
    },
    {
      "cell_type": "code",
      "metadata": {
        "id": "BZuoek34ZsDR",
        "colab_type": "code",
        "colab": {
          "base_uri": "https://localhost:8080/",
          "height": 411
        },
        "outputId": "a8e4e73f-3cc8-4ee7-a567-9a8e173fe01b"
      },
      "source": [
        "movie_list[0]"
      ],
      "execution_count": 35,
      "outputs": [
        {
          "output_type": "execute_result",
          "data": {
            "text/plain": [
              "{'_id': ObjectId('5ef8953205d42488e36c6b90'),\n",
              " 'awards': '',\n",
              " 'cast': 'Vivian Vaughan, Arthur White, James H. White',\n",
              " 'country': 'USA',\n",
              " 'director': 'George S. Fleming, Edwin S. Porter',\n",
              " 'fullplot': \"Porter's sequential continuity editing links several shots to form a narrative of firemen responding to a house fire. They leave the station with their horse drawn pumper, arrive on the scene, and effect the safe rescue of a woman from the burning house. But wait, she tells them of her child yet asleep in the burning bedroom . . .\",\n",
              " 'genre': 'Short, Action',\n",
              " 'imdbID': '447',\n",
              " 'imdbRating': '6.4',\n",
              " 'imdbVotes': '1158',\n",
              " 'language': 'English',\n",
              " 'lastupdated': '2015-08-29 00:26:36.093000000',\n",
              " 'metacritic': '',\n",
              " 'plot': \"Porter's sequential continuity editing links several shots to form a narrative of firemen responding to a house fire. They leave the station with their horse drawn pumper, arrive on the ...\",\n",
              " 'poster': 'https://m.media-amazon.com/images/M/MV5BMjAzNTI3MzI0Nl5BMl5BanBnXkFtZTcwMzQ1MTYzMw@@._V1_SX300.jpg',\n",
              " 'rating': 'NOT RATED',\n",
              " 'released': '1903-01-01',\n",
              " 'runtime': '6 min',\n",
              " 'title': 'Life of an American Fireman',\n",
              " 'type': 'movie',\n",
              " 'writer': '',\n",
              " 'year': '1903'}"
            ]
          },
          "metadata": {
            "tags": []
          },
          "execution_count": 35
        }
      ]
    },
    {
      "cell_type": "code",
      "metadata": {
        "id": "_Dd62o4KandI",
        "colab_type": "code",
        "colab": {}
      },
      "source": [
        ""
      ],
      "execution_count": null,
      "outputs": []
    }
  ]
}