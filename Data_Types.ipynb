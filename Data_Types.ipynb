{
  "nbformat": 4,
  "nbformat_minor": 0,
  "metadata": {
    "kernelspec": {
      "display_name": "Python 3",
      "language": "python",
      "name": "python3"
    },
    "language_info": {
      "codemirror_mode": {
        "name": "ipython",
        "version": 3
      },
      "file_extension": ".py",
      "mimetype": "text/x-python",
      "name": "python",
      "nbconvert_exporter": "python",
      "pygments_lexer": "ipython3",
      "version": "3.6.1"
    },
    "colab": {
      "name": "Data Types.ipynb",
      "provenance": [],
      "collapsed_sections": [],
      "include_colab_link": true
    }
  },
  "cells": [
    {
      "cell_type": "markdown",
      "metadata": {
        "id": "view-in-github",
        "colab_type": "text"
      },
      "source": [
        "<a href=\"https://colab.research.google.com/github/atm1504/mongodb-details/blob/master/Data_Types.ipynb\" target=\"_parent\"><img src=\"https://colab.research.google.com/assets/colab-badge.svg\" alt=\"Open In Colab\"/></a>"
      ]
    },
    {
      "cell_type": "markdown",
      "metadata": {
        "id": "MOktQKanh3NC",
        "colab_type": "text"
      },
      "source": [
        "#Data-Types\n",
        "\n",
        "A glance on the basic data types available in mongodb.\n",
        "Things learnt:\n",
        "* Data Types\n",
        "* Querying By data Types\n"
      ]
    },
    {
      "cell_type": "code",
      "metadata": {
        "id": "s81Uyg9Rh_3D",
        "colab_type": "code",
        "colab": {
          "base_uri": "https://localhost:8080/",
          "height": 119
        },
        "outputId": "3d2b38f9-8afc-4652-bb83-e3d59d5c51af"
      },
      "source": [
        "!pip3 install pymongo[srv]"
      ],
      "execution_count": 3,
      "outputs": [
        {
          "output_type": "stream",
          "text": [
            "Requirement already satisfied: pymongo[srv] in /usr/local/lib/python3.6/dist-packages (3.10.1)\n",
            "Collecting dnspython<2.0.0,>=1.16.0; extra == \"srv\"\n",
            "\u001b[?25l  Downloading https://files.pythonhosted.org/packages/ec/d3/3aa0e7213ef72b8585747aa0e271a9523e713813b9a20177ebe1e939deb0/dnspython-1.16.0-py2.py3-none-any.whl (188kB)\n",
            "\r\u001b[K     |█▊                              | 10kB 16.1MB/s eta 0:00:01\r\u001b[K     |███▌                            | 20kB 1.6MB/s eta 0:00:01\r\u001b[K     |█████▏                          | 30kB 2.1MB/s eta 0:00:01\r\u001b[K     |███████                         | 40kB 2.4MB/s eta 0:00:01\r\u001b[K     |████████▊                       | 51kB 1.9MB/s eta 0:00:01\r\u001b[K     |██████████▍                     | 61kB 2.1MB/s eta 0:00:01\r\u001b[K     |████████████▏                   | 71kB 2.3MB/s eta 0:00:01\r\u001b[K     |██████████████                  | 81kB 2.6MB/s eta 0:00:01\r\u001b[K     |███████████████▋                | 92kB 2.7MB/s eta 0:00:01\r\u001b[K     |█████████████████▍              | 102kB 2.6MB/s eta 0:00:01\r\u001b[K     |███████████████████▏            | 112kB 2.6MB/s eta 0:00:01\r\u001b[K     |████████████████████▉           | 122kB 2.6MB/s eta 0:00:01\r\u001b[K     |██████████████████████▋         | 133kB 2.6MB/s eta 0:00:01\r\u001b[K     |████████████████████████▍       | 143kB 2.6MB/s eta 0:00:01\r\u001b[K     |██████████████████████████      | 153kB 2.6MB/s eta 0:00:01\r\u001b[K     |███████████████████████████▉    | 163kB 2.6MB/s eta 0:00:01\r\u001b[K     |█████████████████████████████▋  | 174kB 2.6MB/s eta 0:00:01\r\u001b[K     |███████████████████████████████▎| 184kB 2.6MB/s eta 0:00:01\r\u001b[K     |████████████████████████████████| 194kB 2.6MB/s \n",
            "\u001b[?25hInstalling collected packages: dnspython\n",
            "Successfully installed dnspython-1.16.0\n"
          ],
          "name": "stdout"
        }
      ]
    },
    {
      "cell_type": "code",
      "metadata": {
        "id": "LQ29WUJnhv4h",
        "colab_type": "code",
        "colab": {}
      },
      "source": [
        "import pymongo\n",
        "import pprint"
      ],
      "execution_count": 1,
      "outputs": []
    },
    {
      "cell_type": "code",
      "metadata": {
        "id": "d5NfJU00hv4m",
        "colab_type": "code",
        "colab": {}
      },
      "source": [
        "# Replace XXXX with your connection URI from the Atlas UI\n",
        "course_cluster_uri = xxxx"
      ],
      "execution_count": 2,
      "outputs": []
    },
    {
      "cell_type": "code",
      "metadata": {
        "id": "LKp78qu0hv4p",
        "colab_type": "code",
        "colab": {}
      },
      "source": [
        "course_client = pymongo.MongoClient(course_cluster_uri)\n",
        "movies = course_client['mongo']['movies']"
      ],
      "execution_count": 3,
      "outputs": []
    },
    {
      "cell_type": "code",
      "metadata": {
        "id": "V2EBgU08hv4r",
        "colab_type": "code",
        "colab": {}
      },
      "source": [
        "movie = movies.find_one()"
      ],
      "execution_count": 4,
      "outputs": []
    },
    {
      "cell_type": "code",
      "metadata": {
        "id": "tK0SJGnOhv4u",
        "colab_type": "code",
        "colab": {
          "base_uri": "https://localhost:8080/",
          "height": 340
        },
        "outputId": "7a7cf938-4b98-462d-87c3-54620b07ecf6"
      },
      "source": [
        "pprint.pprint(movie)"
      ],
      "execution_count": 5,
      "outputs": [
        {
          "output_type": "stream",
          "text": [
            "{'_id': ObjectId('5ef8953205d42488e36c6b75'),\n",
            " 'cast': ['Carmencita'],\n",
            " 'countries': ['USA'],\n",
            " 'directors': ['William K.L. Dickson'],\n",
            " 'fullPlot': 'Performing on what looks like a small wooden stage, wearing a '\n",
            "             'dress with a hoop skirt and white high-heeled pumps, Carmencita '\n",
            "             'does a dance with kicks and twirls, a smile always on her face.',\n",
            " 'genres': ['Documentary', 'Short'],\n",
            " 'imdb': {'id': '1', 'rating': '5.9', 'votes': '1032'},\n",
            " 'lastupdated': '2015-08-26 00:03:45.040000000',\n",
            " 'plot': 'Performing on what looks like a small wooden stage, wearing a dress '\n",
            "         'with a hoop skirt and white high-heeled pumps, Carmencita does a '\n",
            "         'dance with kicks and twirls, a smile always on her face.',\n",
            " 'poster': 'https://m.media-amazon.com/images/M/MV5BMjAzNDEwMzk3OV5BMl5BanBnXkFtZTcwOTk4OTM5Ng@@._V1_SX300.jpg',\n",
            " 'rated': 'NOT RATED',\n",
            " 'runtime': 1,\n",
            " 'title': 'Carmencita',\n",
            " 'type': 'movie',\n",
            " 'year': '1894'}\n"
          ],
          "name": "stdout"
        }
      ]
    },
    {
      "cell_type": "code",
      "metadata": {
        "id": "jCWC8c6Dhv4y",
        "colab_type": "code",
        "colab": {
          "base_uri": "https://localhost:8080/",
          "height": 34
        },
        "outputId": "06aaaf15-77f9-4b65-86ff-329c2313fbb3"
      },
      "source": [
        "movie['_id']"
      ],
      "execution_count": 6,
      "outputs": [
        {
          "output_type": "execute_result",
          "data": {
            "text/plain": [
              "ObjectId('5ef8953205d42488e36c6b75')"
            ]
          },
          "metadata": {
            "tags": []
          },
          "execution_count": 6
        }
      ]
    },
    {
      "cell_type": "code",
      "metadata": {
        "id": "UVFdjx6sjnQU",
        "colab_type": "code",
        "colab": {
          "base_uri": "https://localhost:8080/",
          "height": 34
        },
        "outputId": "d96a8557-945d-4ebd-c1d8-ec6f0bfa9e73"
      },
      "source": [
        "movie['imdb']"
      ],
      "execution_count": 9,
      "outputs": [
        {
          "output_type": "execute_result",
          "data": {
            "text/plain": [
              "{'id': '1', 'rating': '5.9', 'votes': '1032'}"
            ]
          },
          "metadata": {
            "tags": []
          },
          "execution_count": 9
        }
      ]
    },
    {
      "cell_type": "code",
      "metadata": {
        "id": "PG77vZxHhv40",
        "colab_type": "code",
        "colab": {}
      },
      "source": [
        "from datetime import datetime\n",
        "dates = course_client['test']['dates']"
      ],
      "execution_count": 15,
      "outputs": []
    },
    {
      "cell_type": "code",
      "metadata": {
        "id": "QLBofyckhv43",
        "colab_type": "code",
        "colab": {
          "base_uri": "https://localhost:8080/",
          "height": 34
        },
        "outputId": "a1ceceab-23e9-447a-ea4f-6e2613c4523f"
      },
      "source": [
        "dates.insert_one({ \"dt\": datetime.utcnow() })"
      ],
      "execution_count": 16,
      "outputs": [
        {
          "output_type": "execute_result",
          "data": {
            "text/plain": [
              "<pymongo.results.InsertOneResult at 0x7f6585422e88>"
            ]
          },
          "metadata": {
            "tags": []
          },
          "execution_count": 16
        }
      ]
    },
    {
      "cell_type": "code",
      "metadata": {
        "id": "ZVlx2JdChv46",
        "colab_type": "code",
        "colab": {
          "base_uri": "https://localhost:8080/",
          "height": 51
        },
        "outputId": "78eba351-060c-43c3-bfdf-bb6eedbfc205"
      },
      "source": [
        "dates.find_one()"
      ],
      "execution_count": 17,
      "outputs": [
        {
          "output_type": "execute_result",
          "data": {
            "text/plain": [
              "{'_id': ObjectId('5efac4ee979ed471687c4128'),\n",
              " 'dt': datetime.datetime(2020, 6, 30, 4, 51, 58, 595000)}"
            ]
          },
          "metadata": {
            "tags": []
          },
          "execution_count": 17
        }
      ]
    },
    {
      "cell_type": "code",
      "metadata": {
        "id": "NKXmIhW3hv48",
        "colab_type": "code",
        "colab": {}
      },
      "source": [
        "from bson.decimal128 import Decimal128\n",
        "decimals = course_client['test']['decimals']"
      ],
      "execution_count": 18,
      "outputs": []
    },
    {
      "cell_type": "code",
      "metadata": {
        "id": "mbEvtYmKhv4-",
        "colab_type": "code",
        "colab": {
          "base_uri": "https://localhost:8080/",
          "height": 34
        },
        "outputId": "38690d1e-b998-4dbd-da60-a3a4d0a7b3bb"
      },
      "source": [
        "decimals.insert_one({ \"money\": Decimal128(\"99.99\") })"
      ],
      "execution_count": 19,
      "outputs": [
        {
          "output_type": "execute_result",
          "data": {
            "text/plain": [
              "<pymongo.results.InsertOneResult at 0x7f65854d0788>"
            ]
          },
          "metadata": {
            "tags": []
          },
          "execution_count": 19
        }
      ]
    },
    {
      "cell_type": "code",
      "metadata": {
        "id": "L77Atmffhv5B",
        "colab_type": "code",
        "colab": {
          "base_uri": "https://localhost:8080/",
          "height": 34
        },
        "outputId": "35324bc1-a336-41b6-eadd-bd70387388ba"
      },
      "source": [
        "decimals.find_one()"
      ],
      "execution_count": 20,
      "outputs": [
        {
          "output_type": "execute_result",
          "data": {
            "text/plain": [
              "{'_id': ObjectId('5efac539979ed471687c4129'), 'money': Decimal128('99.99')}"
            ]
          },
          "metadata": {
            "tags": []
          },
          "execution_count": 20
        }
      ]
    },
    {
      "cell_type": "code",
      "metadata": {
        "id": "ILEs0JIPhv5E",
        "colab_type": "code",
        "colab": {
          "base_uri": "https://localhost:8080/",
          "height": 292
        },
        "outputId": "8a99430a-afe8-4ec4-a802-9fcce911cc45"
      },
      "source": [
        "movies.find_one({ \"year\": { \"$type\": \"string\" } })"
      ],
      "execution_count": 23,
      "outputs": [
        {
          "output_type": "execute_result",
          "data": {
            "text/plain": [
              "{'_id': ObjectId('5ef8953205d42488e36c6b75'),\n",
              " 'cast': ['Carmencita'],\n",
              " 'countries': ['USA'],\n",
              " 'directors': ['William K.L. Dickson'],\n",
              " 'fullPlot': 'Performing on what looks like a small wooden stage, wearing a dress with a hoop skirt and white high-heeled pumps, Carmencita does a dance with kicks and twirls, a smile always on her face.',\n",
              " 'genres': ['Documentary', 'Short'],\n",
              " 'imdb': {'id': '1', 'rating': '5.9', 'votes': '1032'},\n",
              " 'lastupdated': '2015-08-26 00:03:45.040000000',\n",
              " 'plot': 'Performing on what looks like a small wooden stage, wearing a dress with a hoop skirt and white high-heeled pumps, Carmencita does a dance with kicks and twirls, a smile always on her face.',\n",
              " 'poster': 'https://m.media-amazon.com/images/M/MV5BMjAzNDEwMzk3OV5BMl5BanBnXkFtZTcwOTk4OTM5Ng@@._V1_SX300.jpg',\n",
              " 'rated': 'NOT RATED',\n",
              " 'runtime': 1,\n",
              " 'title': 'Carmencita',\n",
              " 'type': 'movie',\n",
              " 'year': '1894'}"
            ]
          },
          "metadata": {
            "tags": []
          },
          "execution_count": 23
        }
      ]
    }
  ]
}